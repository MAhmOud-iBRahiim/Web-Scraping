{
 "cells": [
  {
   "cell_type": "code",
   "execution_count": null,
   "metadata": {},
   "outputs": [],
   "source": [
    "from selenium import webdriver\n",
    "from selenium.webdriver.chrome.service import Service\n",
    "from selenium.webdriver.common.by import By\n",
    "from selenium import webdriver\n",
    "from webdriver_manager.chrome import ChromeDriverManager\n",
    "import time\n",
    "from selenium.webdriver.common.keys import Keys\n",
    "from unidecode import unidecode\n",
    "import pandas as pd\n",
    "import glob\n",
    "import os"
   ]
  },
  {
   "cell_type": "code",
   "execution_count": null,
   "metadata": {},
   "outputs": [],
   "source": [
    "#resturants\n",
    "def SCRAP_ME(path,x,Governorate_Name):\n",
    "    driver = webdriver.Chrome(ChromeDriverManager().install())\n",
    "    driver.get(path)\n",
    "    time.sleep(3)\n",
    "    names=[]\n",
    "    i=1\n",
    "    while(len(names)<x):\n",
    "        try:\n",
    "            name=driver.find_element(By.XPATH,\"/html/body/div[4]/div[3]/div[2]/div[2]/div[2]/div[2]/div[2]/div/div[6]/div[3]/div[5]/div[1]/div/div/div[\"+str(i)+\"]/span/div[1]/div[2]/div[1]/div/span/a\").text.split('.')[1].replace(\" \",\"\")\n",
    "            names.append(name)\n",
    "            #print(len(names))  \n",
    "        except:\n",
    "            pass\n",
    "        i+=1\n",
    "    gover_col= [Governorate_Name for i in range(x)]\n",
    "    data = pd.DataFrame({\"Restaurant_Name\":names,\"Governorate\":gover_col})\n",
    "    data.to_csv(Governorate_Name+\".csv\")"
   ]
  },
  {
   "cell_type": "code",
   "execution_count": null,
   "metadata": {},
   "outputs": [],
   "source": [
    "path=\"https://www.tripadvisor.com/Restaurants-g297549-Hurghada_Red_Sea_and_Sinai.html\"\n",
    "x=30\n",
    "Governorate_Name=\"Hurghada\"\n",
    "SCRAP_ME(path,x,Governorate_Name)"
   ]
  },
  {
   "cell_type": "code",
   "execution_count": null,
   "metadata": {},
   "outputs": [],
   "source": [
    "all_files=glob.glob(r\"C:\\Users\\admin\\Desktop\\resturants\\*\")\n",
    "Total_restaurants = pd.concat(\n",
    "   map(pd.read_csv,all_files), ignore_index=True)\n",
    "Total_restaurants.to_csv(\"Total_restaurants.csv\")"
   ]
  },
  {
   "cell_type": "code",
   "execution_count": null,
   "metadata": {},
   "outputs": [],
   "source": [
    "#hotels\n",
    "def SCRAP_ME(path,Reviews_Number,Governorate_Name):\n",
    "    driver = webdriver.Chrome(ChromeDriverManager().install())\n",
    "    driver.get(path)\n",
    "    time.sleep(2)\n",
    "    names=[]\n",
    "    rates=[]\n",
    "    i=1\n",
    "    print(\"starting\")\n",
    "    while(len(rates)<Reviews_Number):\n",
    "        try:\n",
    "            rate=driver.find_element(By.XPATH,\"/html/body/div[2]/div[1]/div[1]/div/div[2]/div[3]/div[3]/div[4]/div/div[\"+str(i)+\"]/div/div[1]/div[2]/div[2]/div[2]/div[1]/a[1]\")\n",
    "            rate=rate.get_attribute(\"alt\").split()[0]\n",
    "            rate=float(rate)\n",
    "            rates.append(rate)\n",
    "            name=driver.find_element(By.XPATH,\"/html/body/div[2]/div[1]/div[1]/div/div[2]/div[3]/div[3]/div[4]/div/div[\"+str(i)+\"]/div/div[1]/div[2]/div[1]/div/a\").text\n",
    "            names.append(name)\n",
    "            x=len(rates)\n",
    "            print(x)\n",
    "            #print(f'{x},,name={name},rate={rate}')\n",
    "        except:\n",
    "            try:\n",
    "                rate=driver.find_element(By.XPATH,\"/html/body/div[2]/div[1]/div[1]/div/div[2]/div[3]/div[3]/div[4]/div/div[\"+str(i)+\"]/div/div[1]/div[2]/div[2]/div[2]/div[2]/a[1]\")\n",
    "                rate=rate.get_attribute(\"alt\").split()[0]\n",
    "                rate=float(rate)\n",
    "                rates.append(rate) \n",
    "                name=driver.find_element(By.XPATH,\"/html/body/div[2]/div[1]/div[1]/div/div[2]/div[3]/div[3]/div[4]/div/div[\"+str(i)+\"]/div/div[1]/div[2]/div[1]/div/a\").text\n",
    "                names.append(name)\n",
    "                x=len(rates)\n",
    "                print(x)\n",
    "                #print(f'{x},,name={name},,rate={rate}')\n",
    "            except:\n",
    "                print(f'passed i={i}')\n",
    "                pass\n",
    "                if(i>=50):\n",
    "                    break\n",
    "                \n",
    "        i+=1\n",
    "    gover_col= [Governorate_Name for i in range(Reviews_Number)]\n",
    "    data = pd.DataFrame({\"Hotel_Name\":names,\"Rate\":rates,\"Governorate\":gover_col})\n",
    "    data.to_csv(Governorate_Name+\"_Hotels.csv\")"
   ]
  },
  {
   "cell_type": "code",
   "execution_count": null,
   "metadata": {},
   "outputs": [],
   "source": [
    "path=\"https://www.tripadvisor.com/Restaurants-g297549-Hurghada_Red_Sea_and_Sinai.html\"\n",
    "Reviews_Number=30\n",
    "Governorate_Name=\"Hurghada\"\n",
    "SCRAP_ME(path,Reviews_Number,Governorate_Name)"
   ]
  },
  {
   "cell_type": "code",
   "execution_count": null,
   "metadata": {},
   "outputs": [],
   "source": [
    "all_files=glob.glob(r\"C:\\Users\\admin\\Desktop\\hotels\\*\")\n",
    "Total_Hotels = pd.concat(\n",
    "   map(pd.read_csv,all_files), ignore_index=True)\n",
    "Total_Hotels.to_csv(\"Total_Hotels.csv\")"
   ]
  },
  {
   "cell_type": "code",
   "execution_count": null,
   "metadata": {},
   "outputs": [],
   "source": []
  }
 ],
 "metadata": {
  "kernelspec": {
   "display_name": "Python 3",
   "language": "python",
   "name": "python3"
  },
  "language_info": {
   "codemirror_mode": {
    "name": "ipython",
    "version": 3
   },
   "file_extension": ".py",
   "mimetype": "text/x-python",
   "name": "python",
   "nbconvert_exporter": "python",
   "pygments_lexer": "ipython3",
   "version": "3.6.5"
  }
 },
 "nbformat": 4,
 "nbformat_minor": 2
}
