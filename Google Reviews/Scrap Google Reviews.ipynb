{
 "cells": [
  {
   "cell_type": "code",
   "execution_count": null,
   "metadata": {},
   "outputs": [],
   "source": [
    "from selenium import webdriver\n",
    "from selenium.webdriver.chrome.service import Service\n",
    "from selenium.webdriver.common.by import By\n",
    "from selenium import webdriver\n",
    "from webdriver_manager.chrome import ChromeDriverManager\n",
    "from selenium.webdriver.common.keys import Keys\n",
    "from unidecode import unidecode\n",
    "import pandas as pd\n",
    "import time\n",
    "import glob\n",
    "import os"
   ]
  },
  {
   "cell_type": "code",
   "execution_count": null,
   "metadata": {},
   "outputs": [],
   "source": [
    "def SCRAP_ME(path,reviews_count,place_name):\n",
    "    driver = webdriver.Chrome(ChromeDriverManager().install())\n",
    "    driver.get(path)\n",
    "    time.sleep(5)\n",
    "    rates=[]\n",
    "    j=1\n",
    "    No_Such_Element=0\n",
    "    elemnt=driver.find_element_by_tag_name(\"body\")\n",
    "    while(len(rates)<reviews_count and No_Such_Element<1):\n",
    "        for i in range(1,11):\n",
    "            try:\n",
    "                #find elements by XPath\n",
    "                rate=driver.find_element(By.XPATH,\"/html/body/span/g-lightbox/div[2]/div[3]/span/div/div/div/div[2]/div[4]/div[\"+str(j)+\"]/div[2]/div[\"+str(i)+\"]/div[1]/div[3]/div[1]/g-review-stars/span\")\n",
    "                #get data inside specific attribute\n",
    "                rate=rate.get_attribute('aria-label').split()[3]\n",
    "                #change the rate language to english\n",
    "                rate=unidecode(rate).split('.')[0]\n",
    "                rate=int(rate)\n",
    "                rates.append(rate)\n",
    "                print(len(rates))\n",
    "            except:\n",
    "                No_Such_Element=1\n",
    "        #Scroll down to load more reviews        \n",
    "        for n in range(1,21):\n",
    "            elemnt.send_keys(Keys.PAGE_DOWN)\n",
    "        time.sleep(1)\n",
    "        j+=1\n",
    "    #add column for place name    \n",
    "    place_name_col= [place_name for i in range(reviews_count)]    \n",
    "    #save data to CSV file\n",
    "    data = pd.DataFrame({\"Rating\":rates},\"Place_Name\":place_name_col})\n",
    "    data.to_csv(place_name+\".csv\")"
   ]
  },
  {
   "cell_type": "code",
   "execution_count": null,
   "metadata": {},
   "outputs": [],
   "source": [
    "path=\"https://www.google.com/search?q=%D9%85%D8%AA%D8%AD%D9%81+%D8%A7%D9%84%D9%85%D8%B5%D8%B1%D9%8A+%D9%81+%D8%A7%D9%84%D8%AA%D8%AD%D8%B1%D9%8A%D8%B1&sxsrf=AOaemvJIYZLLe-ZZhwK1zhOLTqvvy2Xu4g%3A1640786899921&ei=02vMYZDQN62LjLsPi8S1oA8&ved=0ahUKEwjQhcnCl4n1AhWtBWMBHQtiDfQQ4dUDCA4&uact=5&oq=%D9%85%D8%AA%D8%AD%D9%81+%D8%A7%D9%84%D9%85%D8%B5%D8%B1%D9%8A+%D9%81+%D8%A7%D9%84%D8%AA%D8%AD%D8%B1%D9%8A%D8%B1&gs_lcp=Cgdnd3Mtd2l6EAMyCgguEMcBEK8BEA0yBggAEBYQHjoHCAAQRxCwAzoQCC4QxwEQrwEQyAMQsAMQQ0oECEEYAEoECEYYAFC4xMgBWLjEyAFg98bIAWgIcAJ4AIABogGIAaIBkgEDMC4xmAEAoAECoAEByAEMwAEB&sclient=gws-wiz#lrd=0x1458b14d72adf029:0x9a38f9bbb6edbfe4,1,,,\"\n",
    "reviews_count=200\n",
    "place_name=\"Egyptian Museum\"\n",
    "SCRAP_ME(path,reviews_count,place_name)"
   ]
  },
  {
   "cell_type": "code",
   "execution_count": null,
   "metadata": {},
   "outputs": [],
   "source": [
    "#concat all places files into one file  \n",
    "all_files=glob.glob(\"G:\\scrap\\google rev\\*\")\n",
    "Total_rev = pd.concat(\n",
    "   map(pd.read_csv,all_files), ignore_index=True)\n",
    "Total_rev.to_csv(\"Total_Reviews.csv\")"
   ]
  }
 ],
 "metadata": {
  "kernelspec": {
   "display_name": "Python 3",
   "language": "python",
   "name": "python3"
  },
  "language_info": {
   "codemirror_mode": {
    "name": "ipython",
    "version": 3
   },
   "file_extension": ".py",
   "mimetype": "text/x-python",
   "name": "python",
   "nbconvert_exporter": "python",
   "pygments_lexer": "ipython3",
   "version": "3.6.5"
  }
 },
 "nbformat": 4,
 "nbformat_minor": 2
}
