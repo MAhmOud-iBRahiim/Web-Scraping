{
 "cells": [
  {
   "cell_type": "code",
   "execution_count": null,
   "metadata": {},
   "outputs": [],
   "source": [
    "from selenium import webdriver\n",
    "from selenium.webdriver.chrome.service import Service\n",
    "from selenium.webdriver.common.by import By\n",
    "from selenium import webdriver\n",
    "from webdriver_manager.chrome import ChromeDriverManager\n",
    "import time\n",
    "from selenium.webdriver.common.keys import Keys\n",
    "from unidecode import unidecode\n",
    "import pandas as pd\n",
    "import glob\n",
    "import os"
   ]
  },
  {
   "cell_type": "code",
   "execution_count": null,
   "metadata": {},
   "outputs": [],
   "source": [
    "driver = webdriver.Chrome(ChromeDriverManager().install())\n",
    "driver.get(\"https://en.wikipedia.org/wiki/List_of_ancient_Egyptians\")\n",
    "Names=[]\n",
    "MainTitles=[]\n",
    "Dynasties=[]\n",
    "Dates=[]\n",
    "Comments=[]\n",
    "time.sleep(2)\n",
    "for j in range(1,23):\n",
    "    i=1\n",
    "    print(f\"j={j}\")\n",
    "    while(1):\n",
    "        try:\n",
    "            Name=driver.find_element(By.XPATH,\"/html/body/div[3]/div[3]/div[5]/div[1]/table[\"+str(j)+\"]/tbody/tr[\"+str(i)+\"]/td[1]/b/a\").text\n",
    "        except:\n",
    "            try:\n",
    "                Name=driver.find_element(By.XPATH,\"/html/body/div[3]/div[3]/div[5]/div[1]/table[\"+str(j)+\"]/tbody/tr[\"+str(i)+\"]/td[1]/b\").text\n",
    "            except:\n",
    "                break\n",
    "        try:\n",
    "            MainTitle=driver.find_element(By.XPATH,\"/html/body/div[3]/div[3]/div[5]/div[1]/table[\"+str(j)+\"]/tbody/tr[\"+str(i)+\"]/td[2]\").text\n",
    "        except:\n",
    "            MainTitle=\"\"\n",
    "        try:\n",
    "            Dynasty=driver.find_element(By.XPATH,\"/html/body/div[3]/div[3]/div[5]/div[1]/table[\"+str(j)+\"]/tbody/tr[\"+str(i)+\"]/td[3]\").text\n",
    "        except:\n",
    "            Dynasty=\"\"\n",
    "        try:\n",
    "            Date=driver.find_element(By.XPATH,\"/html/body/div[3]/div[3]/div[5]/div[1]/table[\"+str(j)+\"]/tbody/tr[\"+str(i)+\"]/td[4]\").text\n",
    "        except:\n",
    "            Date=\"\"\n",
    "        try:\n",
    "            Comment=driver.find_element(By.XPATH,\"/html/body/div[3]/div[3]/div[5]/div[1]/table[\"+str(j)+\"]/tbody/tr[\"+str(i)+\"]/td[5]\").text\n",
    "        except:\n",
    "            Comment=\"\"\n",
    "        ###\n",
    "        print(i)\n",
    "        i+=1\n",
    "        Names.append(Name)\n",
    "        MainTitles.append(MainTitle)\n",
    "        Dynasties.append(Dynasty)\n",
    "        Dates.append(Date)\n",
    "        Comments.append(Comment)"
   ]
  },
  {
   "cell_type": "code",
   "execution_count": null,
   "metadata": {},
   "outputs": [],
   "source": [
    "#len(Names)"
   ]
  },
  {
   "cell_type": "code",
   "execution_count": null,
   "metadata": {},
   "outputs": [],
   "source": [
    "data = pd.DataFrame({\"Name\":Names,\"Main Title\":MainTitles,\"Dynasty\":Dynasties,\"Date\":Dates,\"Comment\":Comments})\n",
    "data.to_csv(\"Ancient Egyptians.csv\")"
   ]
  }
 ],
 "metadata": {
  "kernelspec": {
   "display_name": "Python 3",
   "language": "python",
   "name": "python3"
  },
  "language_info": {
   "codemirror_mode": {
    "name": "ipython",
    "version": 3
   },
   "file_extension": ".py",
   "mimetype": "text/x-python",
   "name": "python",
   "nbconvert_exporter": "python",
   "pygments_lexer": "ipython3",
   "version": "3.6.5"
  }
 },
 "nbformat": 4,
 "nbformat_minor": 2
}
