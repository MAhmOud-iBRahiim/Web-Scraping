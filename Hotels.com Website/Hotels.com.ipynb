{
 "cells": [
  {
   "cell_type": "code",
   "execution_count": null,
   "metadata": {},
   "outputs": [],
   "source": [
    "from selenium import webdriver\n",
    "from selenium.webdriver.chrome.service import Service\n",
    "from selenium.webdriver.common.by import By\n",
    "from selenium import webdriver\n",
    "from webdriver_manager.chrome import ChromeDriverManager\n",
    "import time\n",
    "from selenium.webdriver.common.keys import Keys\n",
    "from unidecode import unidecode\n",
    "import pandas as pd\n",
    "import glob\n",
    "import os"
   ]
  },
  {
   "cell_type": "code",
   "execution_count": null,
   "metadata": {},
   "outputs": [],
   "source": [
    "rates=[]\n",
    "names=[]\n",
    "locations=[]\n",
    "driver = webdriver.Chrome(ChromeDriverManager().install())\n",
    "driver.get(\"https://www.hotels.com/search.do?destination-id=435422&q-check-in=2022-02-18&q-check-out=2022-02-22&q-rooms=1&q-room-0-adults=2&q-room-0-children=0&sort-order=GUEST_RATING&locale=en_IE\")\n",
    "time.sleep(4)\n",
    "\n",
    "for i in range(1,20):\n",
    "    try:\n",
    "        name=driver.find_element(By.XPATH,\"/html/body/div[2]/main/div[2]/div/div/div[2]/section[2]/ul/li[\"+str(i)+\"]/div/div/div[2]/div[1]/section[1]/div/h2\").text\n",
    "    except:\n",
    "        name=\"\"\n",
    "    try:\n",
    "        location=driver.find_element(By.XPATH,\"/html/body/div[2]/main/div[2]/div/div/div[2]/section[2]/ul/li[\"+str(i)+\"]/div/div/div[2]/div[1]/section[1]/p\").text\n",
    "    except:\n",
    "        location=\"\"\n",
    "    try:\n",
    "        rate=driver.find_element(By.XPATH,\"/html/body/div[2]/main/div[2]/div/div/div[2]/section[2]/ul/li[\"+str(i)+\"]/div/div/div[2]/div[1]/section[3]/span[1]\").text.split(\"\\n\")[0]\n",
    "    except:\n",
    "        rate=\"\"\n",
    "    #print(i)\n",
    "    names.append(name)\n",
    "    locations.append(location)\n",
    "    rates.append(rate)\n",
    "    time.sleep(0.3)\n"
   ]
  },
  {
   "cell_type": "code",
   "execution_count": null,
   "metadata": {},
   "outputs": [],
   "source": [
    "data = pd.DataFrame({\"Hotel_Name\":names,\"Location\":locations,\"Rate\":rates})\n",
    "data.to_csv(\"Marsa Matrouh_Hotels.csv\")"
   ]
  },
  {
   "cell_type": "code",
   "execution_count": null,
   "metadata": {},
   "outputs": [],
   "source": [
    "all_files=glob.glob(r\"C:\\Users\\admin\\Desktop\\hh\\*\")\n",
    "Total_Hotels = pd.concat(\n",
    "   map(pd.read_csv,all_files), ignore_index=True)\n",
    "Total_Hotels.to_csv(\"Total_Hotels.csv\")"
   ]
  },
  {
   "cell_type": "code",
   "execution_count": null,
   "metadata": {},
   "outputs": [],
   "source": [
    "rates=[]\n",
    "names=[]\n",
    "locations=[]\n",
    "driver = webdriver.Chrome(ChromeDriverManager().install())\n",
    "driver.get(\"https://www.hotels.com/search.do?destination-id=435422&q-check-in=2022-02-18&q-check-out=2022-02-22&q-rooms=1&q-room-0-adults=2&q-room-0-children=0&sort-order=GUEST_RATING&locale=en_IE\")\n",
    "time.sleep(10)\n",
    "i=1\n",
    "state=True\n",
    "while(state):\n",
    "    #sometimes, there is a sign that no more hotels for this place.\n",
    "    #so we break the loop at it\n",
    "    try:\n",
    "        Last=driver.find_element(By.XPATH,\"/html/body/div[2]/main/div[2]/div/div/div[2]/section[2]/ul/li[\"+str(i)+\"]/div/h2\").text\n",
    "        state=False\n",
    "    except:\n",
    "        pass\n",
    "    try:\n",
    "        name=driver.find_element(By.XPATH,\"/html/body/div[2]/main/div[2]/div/div/div[2]/section[2]/ul/li[\"+str(i)+\"]/div/div/div[2]/div[1]/section[1]/div/h2\").text\n",
    "    except:\n",
    "        name=\"\"\n",
    "    try:\n",
    "        location=driver.find_element(By.XPATH,\"/html/body/div[2]/main/div[2]/div/div/div[2]/section[2]/ul/li[\"+str(i)+\"]/div/div/div[2]/div[1]/section[1]/p\").text\n",
    "    except:\n",
    "        location=\"\"\n",
    "    try:\n",
    "        rate=driver.find_element(By.XPATH,\"/html/body/div[2]/main/div[2]/div/div/div[2]/section[2]/ul/li[\"+str(i)+\"]/div/div/div[2]/div[1]/section[3]/span[1]\").text.split(\"\\n\")[0]\n",
    "    except:\n",
    "        rate=\"\"\n",
    "    print(i)\n",
    "    i+=1\n",
    "    names.append(name)\n",
    "    locations.append(location)\n",
    "    rates.append(rate)\n",
    "    time.sleep(0.3)"
   ]
  }
 ],
 "metadata": {
  "kernelspec": {
   "display_name": "Python 3",
   "language": "python",
   "name": "python3"
  },
  "language_info": {
   "codemirror_mode": {
    "name": "ipython",
    "version": 3
   },
   "file_extension": ".py",
   "mimetype": "text/x-python",
   "name": "python",
   "nbconvert_exporter": "python",
   "pygments_lexer": "ipython3",
   "version": "3.6.5"
  }
 },
 "nbformat": 4,
 "nbformat_minor": 2
}
