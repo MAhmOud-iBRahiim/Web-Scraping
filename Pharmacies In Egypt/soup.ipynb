{
 "cells": [
  {
   "cell_type": "code",
   "execution_count": 1,
   "metadata": {},
   "outputs": [],
   "source": [
    "from bs4 import BeautifulSoup\n",
    "import requests\n",
    "import time\n",
    "import pandas as pd"
   ]
  },
  {
   "cell_type": "code",
   "execution_count": 2,
   "metadata": {},
   "outputs": [],
   "source": [
    "Names=[]\n",
    "locs=[]\n",
    "for i in range(1,251):\n",
    "    html_text=requests.get(\"https://yellowpages.com.eg/en/condensed-search/pharmacies/p\"+str(i)).text\n",
    "    soup = BeautifulSoup(html_text,'lxml')\n",
    "    ph_card=soup.find_all('div',class_='col-xs-10 padding_0')\n",
    "    for card in ph_card:\n",
    "        ph_name = card.strong.text\n",
    "        Names.append(ph_name)\n",
    "    ###\n",
    "    Locations=soup.find_all('a',class_='col-md-9 company_address')\n",
    "    for location in Locations:\n",
    "        loc = location.text.replace(\"\\n\",\"\").replace(\",\",\"\")\n",
    "        locs.append(loc)"
   ]
  },
  {
   "cell_type": "code",
   "execution_count": 3,
   "metadata": {},
   "outputs": [],
   "source": [
    "data = pd.DataFrame({\"Name\":Names,\"Location\":locs})\n",
    "data.to_csv(\"ph.csv\")"
   ]
  },
  {
   "cell_type": "code",
   "execution_count": 4,
   "metadata": {},
   "outputs": [
    {
     "data": {
      "text/plain": [
       "5000"
      ]
     },
     "execution_count": 4,
     "metadata": {},
     "output_type": "execute_result"
    }
   ],
   "source": [
    "len(Names)"
   ]
  },
  {
   "cell_type": "code",
   "execution_count": null,
   "metadata": {},
   "outputs": [],
   "source": []
  }
 ],
 "metadata": {
  "kernelspec": {
   "display_name": "Python 3",
   "language": "python",
   "name": "python3"
  },
  "language_info": {
   "codemirror_mode": {
    "name": "ipython",
    "version": 3
   },
   "file_extension": ".py",
   "mimetype": "text/x-python",
   "name": "python",
   "nbconvert_exporter": "python",
   "pygments_lexer": "ipython3",
   "version": "3.6.5"
  }
 },
 "nbformat": 4,
 "nbformat_minor": 2
}
